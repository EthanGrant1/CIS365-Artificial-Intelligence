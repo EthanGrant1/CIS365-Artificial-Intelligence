{
 "cells": [
  {
   "cell_type": "code",
   "execution_count": 1,
   "metadata": {},
   "outputs": [
    {
     "ename": "ModuleNotFoundError",
     "evalue": "No module named 'cv2'",
     "output_type": "error",
     "traceback": [
      "\u001b[1;31m---------------------------------------------------------------------------\u001b[0m",
      "\u001b[1;31mModuleNotFoundError\u001b[0m                       Traceback (most recent call last)",
      "\u001b[1;32m<ipython-input-1-a0fdf8e6113a>\u001b[0m in \u001b[0;36m<module>\u001b[1;34m\u001b[0m\n\u001b[0;32m      1\u001b[0m \u001b[1;32mimport\u001b[0m \u001b[0mnumpy\u001b[0m \u001b[1;32mas\u001b[0m \u001b[0mnp\u001b[0m\u001b[1;33m\u001b[0m\u001b[1;33m\u001b[0m\u001b[0m\n\u001b[1;32m----> 2\u001b[1;33m \u001b[1;32mimport\u001b[0m \u001b[0mcv2\u001b[0m\u001b[1;33m\u001b[0m\u001b[1;33m\u001b[0m\u001b[0m\n\u001b[0m\u001b[0;32m      3\u001b[0m \u001b[1;32mimport\u001b[0m \u001b[0mmatplotlib\u001b[0m\u001b[1;33m.\u001b[0m\u001b[0mpyplot\u001b[0m \u001b[1;32mas\u001b[0m \u001b[0mplt\u001b[0m\u001b[1;33m\u001b[0m\u001b[1;33m\u001b[0m\u001b[0m\n\u001b[0;32m      4\u001b[0m \u001b[1;33m\u001b[0m\u001b[0m\n\u001b[0;32m      5\u001b[0m \u001b[1;32mdef\u001b[0m \u001b[0mget_image\u001b[0m\u001b[1;33m(\u001b[0m\u001b[0mpath\u001b[0m\u001b[1;33m,\u001b[0m\u001b[0msize\u001b[0m\u001b[1;33m)\u001b[0m\u001b[1;33m:\u001b[0m\u001b[1;33m\u001b[0m\u001b[1;33m\u001b[0m\u001b[0m\n",
      "\u001b[1;31mModuleNotFoundError\u001b[0m: No module named 'cv2'"
     ]
    }
   ],
   "source": [
    "import numpy as np\n",
    "import cv2\n",
    "import matplotlib.pyplot as plt\n",
    "\n",
    "def get_image(path,size):\n",
    "    originalImage = cv2.imread(path)\n",
    "    resizedImage = cv2.resize(originalImage, size)\n",
    "    grayImage = cv2.cvtColor(resizedImage, cv2.COLOR_BGR2GRAY)\n",
    "    return np.array(grayImage)\n",
    "\n",
    "find_penny = get_image('penny_all_alone.jpg',(900,500))\n",
    "plt.imshow(find_penny, cmap='gray', vmin=0, vmax=255)\n",
    "plt.show()\n",
    "\n",
    "template = get_image('penny.png',(100,100))\n",
    "plt.imshow(template, cmap='gray', vmin=0, vmax=255)\n",
    "plt.show()\n",
    "\n",
    "steps_h = find_penny.shape[0] - template.shape[0]\n",
    "steps_v = find_penny.shape[1] - template.shape[1]\n",
    "\n",
    "array = np.zeros((steps_h,steps_v))\n",
    "for i in range(0,steps_h):\n",
    "    for j in range(0,steps_v):\n",
    "        array[i,j] = np.linalg.norm(find_penny[i:i+template.shape[0],j:j+template.shape[1]]- template)\n",
    "\n",
    "plt.hist(array.flatten(), density=False, bins=100)\n",
    "plt.show()\n",
    "\n",
    "m_val = min(array.flatten())\n",
    "n_max = max(array.flatten())-min(array.flatten())\n",
    "\n",
    "test = np.zeros((steps_h,steps_v))\n",
    "for i in range(0,array.shape[0]):\n",
    "    for j in range(0,array.shape[1]):\n",
    "        test[i,j] = (array[i][j] - m_val)/n_max\n",
    "\n",
    "plt.imshow(test*255, cmap='gray', vmin=0, vmax=255)\n",
    "plt.show()"
   ]
  }
 ],
 "metadata": {
  "kernelspec": {
   "display_name": "Python 3",
   "language": "python",
   "name": "python3"
  },
  "language_info": {
   "codemirror_mode": {
    "name": "ipython",
    "version": 3
   },
   "file_extension": ".py",
   "mimetype": "text/x-python",
   "name": "python",
   "nbconvert_exporter": "python",
   "pygments_lexer": "ipython3",
   "version": "3.7.6"
  }
 },
 "nbformat": 4,
 "nbformat_minor": 4
}
